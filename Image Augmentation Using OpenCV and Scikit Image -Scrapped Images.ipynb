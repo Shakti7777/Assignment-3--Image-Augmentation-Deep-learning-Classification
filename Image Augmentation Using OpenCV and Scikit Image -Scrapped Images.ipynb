{
 "cells": [
  {
   "cell_type": "markdown",
   "metadata": {},
   "source": [
    "# Importing required Libraries/Modules"
   ]
  },
  {
   "cell_type": "code",
   "execution_count": 25,
   "metadata": {},
   "outputs": [],
   "source": [
    "import cv2\n",
    "import numpy as np\n",
    "from skimage import io \n",
    "from skimage.transform import rotate, AffineTransform, warp\n",
    "import matplotlib.pyplot as plt\n",
    "import random\n",
    "from skimage import img_as_ubyte\n",
    "import os\n",
    "from skimage.util import random_noise"
   ]
  },
  {
   "cell_type": "code",
   "execution_count": 26,
   "metadata": {},
   "outputs": [],
   "source": [
    "import random\n",
    "from scipy import ndarray\n",
    "import skimage as sk\n",
    "from skimage import transform\n",
    "from skimage import util"
   ]
  },
  {
   "cell_type": "code",
   "execution_count": 27,
   "metadata": {},
   "outputs": [],
   "source": [
    "from skimage.color import rgb2gray"
   ]
  },
  {
   "cell_type": "code",
   "execution_count": 28,
   "metadata": {},
   "outputs": [],
   "source": [
    "import pandas\n",
    "from skimage import exposure\n",
    "from skimage.filters import laplace"
   ]
  },
  {
   "cell_type": "markdown",
   "metadata": {},
   "source": [
    "# Augmentation Operations-Defining Functions"
   ]
  },
  {
   "cell_type": "code",
   "execution_count": 29,
   "metadata": {},
   "outputs": [],
   "source": [
    "#Lets define functions for each operation\n",
    "def anticlockwise_rotation(image):\n",
    "    angle= random.randint(0,30)\n",
    "    return rotate(image, angle)\n",
    "\n",
    "def clockwise_rotation(image):\n",
    "    angle= random.randint(0,30)\n",
    "    return rotate(image, -angle)\n",
    "\n",
    "def h_flip(image):\n",
    "    return  np.fliplr(image)\n",
    "\n",
    "def v_flip(image):\n",
    "    return np.flipud(image)\n",
    "\n",
    "def brightness_increase(image):\n",
    "    image_bright = exposure.adjust_gamma(image, gamma=0.5,gain=1)\n",
    "    return (image,image_bright)\n",
    "\n",
    "def brightness_decrease(image):\n",
    "    image_dark = exposure.adjust_gamma(image, gamma=1.5,gain=1)\n",
    "    return (image,image_dark)\n",
    "\n",
    "def sharpened_image(image):\n",
    "    im=rgb2gray(image)\n",
    "    im1=np.clip(laplace(im) + im,0,1)\n",
    "    return im1\n"
   ]
  },
  {
   "cell_type": "markdown",
   "metadata": {},
   "source": [
    "# Applying above function for Augmentated Image Generation and saving the same for every category"
   ]
  },
  {
   "cell_type": "markdown",
   "metadata": {},
   "source": [
    "# 1.For Men in Shirt Dataset"
   ]
  },
  {
   "cell_type": "code",
   "execution_count": 30,
   "metadata": {},
   "outputs": [],
   "source": [
    "\n",
    "transformations = {'rotate anticlockwise': anticlockwise_rotation,\n",
    "                      'rotate clockwise': clockwise_rotation,\n",
    "                      'horizontal flip': h_flip, \n",
    "                      'vertical flip': v_flip,\n",
    "                   'bright_increase': brightness_increase,\n",
    "                   'bright_decrease': brightness_decrease,\n",
    "                   'sharpening':sharpened_image\n",
    "                 }                #use dictionary to store names of functions \n",
    "\n",
    "images_path=\"dataset/Training_Set/men_shirt\" #path to original images\n",
    "augmented_path=\"Augmented_Dataset/training_set/augmented_men_shirt\" # path to store aumented images\n",
    "images=[] # to store paths of images from folder\n",
    "\n",
    "for im in os.listdir(images_path):  # read image name from folder and append its path into \"images\" array     \n",
    "    images.append(os.path.join(images_path,im))\n",
    "\n",
    "images_to_generate=400  #you can change this value according to your requirement\n",
    "i=1                        # variable to iterate till images_to_generate\n",
    "\n",
    "while i<=images_to_generate:    \n",
    "    image=random.choice(images)\n",
    "    original_image = io.imread(image)\n",
    "    transformed_image=None\n",
    "#     print(i)\n",
    "    n = 0       #variable to iterate till number of transformation to apply\n",
    "    transformation_count = random.randint(1, len(transformations)) #choose random number of transformation to apply on the image\n",
    "    \n",
    "    while n <= transformation_count:\n",
    "        key = random.choice(list(transformations)) #randomly choosing method to call\n",
    "        transformed_image = transformations[key](original_image)\n",
    "        n = n + 1\n",
    "        \n",
    "    new_image_path= 'Augmented_Dataset/training_set/augmented_men_shirt/' +str(i)+'.jpg'\n",
    "    transformed_image = img_as_ubyte(transformed_image)  #Convert an image to unsigned byte format, with values in [0, 255].\n",
    "    transformed_image=cv2.cvtColor(transformed_image, cv2.COLOR_BGR2RGB) #convert image to RGB before saving it\n",
    "    cv2.imwrite(new_image_path, transformed_image) # save transformed image to path\n",
    "    i =i+1"
   ]
  },
  {
   "cell_type": "markdown",
   "metadata": {},
   "source": [
    "# 2.For Men in TShirt Dataset"
   ]
  },
  {
   "cell_type": "code",
   "execution_count": 31,
   "metadata": {},
   "outputs": [],
   "source": [
    " \n",
    "transformations = {'rotate anticlockwise': anticlockwise_rotation,\n",
    "                      'rotate clockwise': clockwise_rotation,\n",
    "                      'horizontal flip': h_flip,\n",
    "                       'vertical flip': v_flip,\n",
    "                       'bright_increase': brightness_increase,\n",
    "                       'bright_decrease': brightness_decrease,\n",
    "                      'sharpening':sharpened_image\n",
    "                 }                #use dictionary to store names of functions \n",
    "\n",
    "images_path=\"dataset/Training_Set/men_tshirt\" #path to original images\n",
    "augmented_path=\"Augmented_Dataset/training_set/augmented_men_tshirt\" # path to store aumented images\n",
    "images=[] # to store paths of images from folder\n",
    "\n",
    "for im in os.listdir(images_path):  # read image name from folder and append its path into \"images\" array     \n",
    "    images.append(os.path.join(images_path,im))\n",
    "\n",
    "images_to_generate=400  #you can change this value according to your requirement\n",
    "i=1                        # variable to iterate till images_to_generate\n",
    "\n",
    "while i<=images_to_generate:    \n",
    "    image=random.choice(images)\n",
    "    original_image = io.imread(image)\n",
    "    transformed_image=None\n",
    "#     print(i)\n",
    "    n = 0       #variable to iterate till number of transformation to apply\n",
    "    transformation_count = random.randint(1, len(transformations)) #choose random number of transformation to apply on the image\n",
    "    \n",
    "    while n <= transformation_count:\n",
    "        key = random.choice(list(transformations)) #randomly choosing method to call\n",
    "        transformed_image = transformations[key](original_image)\n",
    "        n = n + 1\n",
    "        \n",
    "    new_image_path= 'Augmented_Dataset/training_set/augmented_men_tshirt/' +str(i)+'.jpg'\n",
    "    transformed_image = img_as_ubyte(transformed_image)  #Convert an image to unsigned byte format, with values in [0, 255].\n",
    "    transformed_image=cv2.cvtColor(transformed_image, cv2.COLOR_BGR2RGB) #convert image to RGB before saving it\n",
    "    cv2.imwrite(new_image_path, transformed_image) # save transformed image to path\n",
    "    i =i+1"
   ]
  },
  {
   "cell_type": "markdown",
   "metadata": {},
   "source": [
    "# 3. For Women in Saree Dataset"
   ]
  },
  {
   "cell_type": "code",
   "execution_count": 32,
   "metadata": {},
   "outputs": [],
   "source": [
    " \n",
    "transformations = {'rotate anticlockwise': anticlockwise_rotation,\n",
    "                      'rotate clockwise': clockwise_rotation,\n",
    "                      'horizontal flip': h_flip,\n",
    "                       'vertical flip': v_flip,\n",
    "                       'bright_increase': brightness_increase,\n",
    "                       'bright_decrease': brightness_decrease,\n",
    "                      'sharpening':sharpened_image\n",
    "                 }                #use dictionary to store names of functions \n",
    "\n",
    "images_path=\"dataset/Training_Set/women_saree\" #path to original images\n",
    "augmented_path=\"Augmented_Dataset/training_set/augmented_women_saree\" # path to store aumented images\n",
    "images=[] # to store paths of images from folder\n",
    "\n",
    "for im in os.listdir(images_path):  # read image name from folder and append its path into \"images\" array     \n",
    "    images.append(os.path.join(images_path,im))\n",
    "\n",
    "images_to_generate=400  #you can change this value according to your requirement\n",
    "i=1                        # variable to iterate till images_to_generate\n",
    "\n",
    "while i<=images_to_generate:    \n",
    "    image=random.choice(images)\n",
    "    original_image = io.imread(image)\n",
    "    transformed_image=None\n",
    "#     print(i)\n",
    "    n = 0       #variable to iterate till number of transformation to apply\n",
    "    transformation_count = random.randint(1, len(transformations)) #choose random number of transformation to apply on the image\n",
    "    \n",
    "    while n <= transformation_count:\n",
    "        key = random.choice(list(transformations)) #randomly choosing method to call\n",
    "        transformed_image = transformations[key](original_image)\n",
    "        n = n + 1\n",
    "        \n",
    "    new_image_path= 'Augmented_Dataset/training_set/augmented_women_saree/' +str(i)+'.jpg'\n",
    "    transformed_image = img_as_ubyte(transformed_image)  #Convert an image to unsigned byte format, with values in [0, 255].\n",
    "    transformed_image=cv2.cvtColor(transformed_image, cv2.COLOR_BGR2RGB) #convert image to RGB before saving it\n",
    "    cv2.imwrite(new_image_path, transformed_image) # save transformed image to path\n",
    "    i =i+1"
   ]
  },
  {
   "cell_type": "code",
   "execution_count": null,
   "metadata": {},
   "outputs": [],
   "source": []
  }
 ],
 "metadata": {
  "kernelspec": {
   "display_name": "Python 3",
   "language": "python",
   "name": "python3"
  },
  "language_info": {
   "codemirror_mode": {
    "name": "ipython",
    "version": 3
   },
   "file_extension": ".py",
   "mimetype": "text/x-python",
   "name": "python",
   "nbconvert_exporter": "python",
   "pygments_lexer": "ipython3",
   "version": "3.6.10"
  }
 },
 "nbformat": 4,
 "nbformat_minor": 4
}
